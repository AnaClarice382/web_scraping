{
  "nbformat": 4,
  "nbformat_minor": 0,
  "metadata": {
    "colab": {
      "name": "Web Scraping with BeautifulSoup.ipynb",
      "provenance": [],
      "authorship_tag": "ABX9TyPYK4D1R+GH6q8rvtk322KJ",
      "include_colab_link": true
    },
    "kernelspec": {
      "name": "python3",
      "display_name": "Python 3"
    }
  },
  "cells": [
    {
      "cell_type": "markdown",
      "metadata": {
        "id": "view-in-github",
        "colab_type": "text"
      },
      "source": [
        "<a href=\"https://colab.research.google.com/github/AnaClarice382/web_scraping/blob/main/Web_Scraping_with_BeautifulSoup.ipynb\" target=\"_parent\"><img src=\"https://colab.research.google.com/assets/colab-badge.svg\" alt=\"Open In Colab\"/></a>"
      ]
    },
    {
      "cell_type": "code",
      "metadata": {
        "id": "65MAQoF3XtKT"
      },
      "source": [
        "from bs4 import BeautifulSoup\r\n",
        "import requests"
      ],
      "execution_count": 50,
      "outputs": []
    },
    {
      "cell_type": "code",
      "metadata": {
        "id": "-guXsTOwX3TV"
      },
      "source": [
        "# Initialize the parser, and pass in the content we grabbed earlier.\r\n",
        "parser = BeautifulSoup(content, 'html.parser')\r\n",
        "\r\n",
        "# Get the body tag from the document.\r\n",
        "# Since we passed in the top level of the document to the parser, we need to pick a branch off of the root.\r\n",
        "# With BeautifulSoup, we can access branches by using tag types as attributes.\r\n",
        "body = parser.body\r\n",
        "\r\n",
        "# Get the p tag from the body.\r\n",
        "p = body.p"
      ],
      "execution_count": 51,
      "outputs": []
    },
    {
      "cell_type": "code",
      "metadata": {
        "colab": {
          "base_uri": "https://localhost:8080/",
          "height": 35
        },
        "id": "GH0SkEx2YBtC",
        "outputId": "f0f148ef-f44d-45dd-fb92-6e04ad4d4a9d"
      },
      "source": [
        "title_text = str(parser.head.title.text)\r\n",
        "title_text"
      ],
      "execution_count": 52,
      "outputs": [
        {
          "output_type": "execute_result",
          "data": {
            "application/vnd.google.colaboratory.intrinsic+json": {
              "type": "string"
            },
            "text/plain": [
              "'2014 Superbowl Team Stats'"
            ]
          },
          "metadata": {
            "tags": []
          },
          "execution_count": 52
        }
      ]
    },
    {
      "cell_type": "code",
      "metadata": {
        "id": "PzF70hYiZOAR"
      },
      "source": [
        "title_text = parser.find_all(\"title\")\r\n",
        "title_text = title_text[0].text"
      ],
      "execution_count": 53,
      "outputs": []
    },
    {
      "cell_type": "markdown",
      "metadata": {
        "id": "Ux86XWjpa3Ey"
      },
      "source": [
        "Trabalhando com busca de CSS"
      ]
    },
    {
      "cell_type": "code",
      "metadata": {
        "colab": {
          "base_uri": "https://localhost:8080/"
        },
        "id": "wWlM321XbGS0",
        "outputId": "d7e28740-ab0d-492d-e7bf-4aab96886141"
      },
      "source": [
        "# Get the website that contains classes.\r\n",
        "response = requests.get(\"http://dataquestio.github.io/web-scraping-pages/simple_classes.html\")\r\n",
        "content = response.content\r\n",
        "parser = BeautifulSoup(content, 'html.parser')\r\n",
        "\r\n",
        "# Get the first inner paragraph.\r\n",
        "# Find all the paragraph tags with the class inner-text.\r\n",
        "# Then, take the first element in that list.\r\n",
        "first_inner_paragraph = parser.find_all(\"p\", class_=\"inner-text\")[0]\r\n",
        "print(first_inner_paragraph.text)\r\n",
        "\r\n",
        "second_inner_paragraph = parser.find_all(\"p\", class_=\"inner-text\")[1]\r\n",
        "second_inner_paragraph_text = second_inner_paragraph.text\r\n",
        "print(second_inner_paragraph_text)\r\n",
        "\r\n",
        "first_outer_paragraph = parser.find_all(\"p\", class_=\"outer-text\")[0]\r\n",
        "first_outer_paragraph_text = first_outer_paragraph.text\r\n",
        "print(first_outer_paragraph_text)\r\n"
      ],
      "execution_count": 54,
      "outputs": [
        {
          "output_type": "stream",
          "text": [
            "\n",
            "                First paragraph.\n",
            "            \n",
            "\n",
            "                Second paragraph.\n",
            "            \n",
            "\n",
            "\n",
            "                First outer paragraph.\n",
            "            \n",
            "\n"
          ],
          "name": "stdout"
        }
      ]
    },
    {
      "cell_type": "code",
      "metadata": {
        "colab": {
          "base_uri": "https://localhost:8080/"
        },
        "id": "Sss_TZjsZftg",
        "outputId": "1d0685d5-4649-45a8-b482-157caf869108"
      },
      "source": [
        "# Get the website that contains classes and IDs.\r\n",
        "response = requests.get(\"http://dataquestio.github.io/web-scraping-pages/ids_and_classes.html\")\r\n",
        "content = response.content\r\n",
        "parser = BeautifulSoup(content, 'html.parser')\r\n",
        "\r\n",
        "first_items = parser.select(\".first-item\")\r\n",
        "\r\n",
        "print(first_items[0].text)"
      ],
      "execution_count": 55,
      "outputs": [
        {
          "output_type": "stream",
          "text": [
            "\n",
            "                First paragraph.\n",
            "            \n"
          ],
          "name": "stdout"
        }
      ]
    },
    {
      "cell_type": "code",
      "metadata": {
        "colab": {
          "base_uri": "https://localhost:8080/"
        },
        "id": "A2AHSFkvbNj8",
        "outputId": "78662479-f2d8-47d1-ccac-025ed226f590"
      },
      "source": [
        "# Get the website that contains classes and IDs.\r\n",
        "response = requests.get(\"http://dataquestio.github.io/web-scraping-pages/ids_and_classes.html\")\r\n",
        "content = response.content\r\n",
        "parser = BeautifulSoup(content, 'html.parser')\r\n",
        "\r\n",
        "first_outer = parser.select(\".outer-text\")\r\n",
        "first_outer_text = first_outer[0].text\r\n",
        "print(first_outer_text)\r\n",
        "\r\n",
        "second = parser.find_all(id=\"second\")[0]\r\n",
        "second_text = second.text\r\n",
        "print(second_text)"
      ],
      "execution_count": 56,
      "outputs": [
        {
          "output_type": "stream",
          "text": [
            "\n",
            "\n",
            "                First outer paragraph.\n",
            "            \n",
            "\n",
            "\n",
            "\n",
            "                First outer paragraph.\n",
            "            \n",
            "\n"
          ],
          "name": "stdout"
        }
      ]
    },
    {
      "cell_type": "code",
      "metadata": {
        "colab": {
          "base_uri": "https://localhost:8080/"
        },
        "id": "YYjzaktJbdZc",
        "outputId": "74e5716b-655b-4cc8-89ab-dd1a38380ec8"
      },
      "source": [
        "# Get the Superbowl box score data.\r\n",
        "response = requests.get(\"http://dataquestio.github.io/web-scraping-pages/2014_super_bowl.html\")\r\n",
        "content = response.content\r\n",
        "parser = BeautifulSoup(content, 'html.parser')\r\n",
        "\r\n",
        "# Find the number of turnovers the Seahawks committed.\r\n",
        "turnovers = parser.select(\"#turnovers\")[0]\r\n",
        "seahawks_turnovers = turnovers.select(\"td\")[1]\r\n",
        "seahawks_turnovers_count = seahawks_turnovers.text\r\n",
        "print(seahawks_turnovers_count)\r\n",
        "\r\n",
        "# Find the number of turnovers the Seahawks committed.\r\n",
        "patriots_total_plays_count = parser.select(\"#total-plays\")[0].select(\"td\")[2].text\r\n",
        "print(patriots_total_plays_count)\r\n",
        "\r\n",
        "seahawks_total_yards_count = parser.select(\"#total-yards\")[0].select(\"td\")[1].text\r\n",
        "print(seahawks_total_yards_count)\r\n"
      ],
      "execution_count": 57,
      "outputs": [
        {
          "output_type": "stream",
          "text": [
            "1\n",
            "72\n",
            "396\n"
          ],
          "name": "stdout"
        }
      ]
    },
    {
      "cell_type": "code",
      "metadata": {
        "id": "QftQ5P2Ldx86"
      },
      "source": [
        ""
      ],
      "execution_count": 57,
      "outputs": []
    }
  ]
}
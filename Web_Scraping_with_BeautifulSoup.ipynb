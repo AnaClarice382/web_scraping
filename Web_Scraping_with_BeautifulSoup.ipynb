{
  "nbformat": 4,
  "nbformat_minor": 0,
  "metadata": {
    "colab": {
      "name": "Web Scraping with BeautifulSoup.ipynb",
      "provenance": [],
      "authorship_tag": "ABX9TyNipAOoPB1NkgZghSsJW/17",
      "include_colab_link": true
    },
    "kernelspec": {
      "name": "python3",
      "display_name": "Python 3"
    }
  },
  "cells": [
    {
      "cell_type": "markdown",
      "metadata": {
        "id": "view-in-github",
        "colab_type": "text"
      },
      "source": [
        "<a href=\"https://colab.research.google.com/github/AnaClarice382/web_scraping/blob/main/Web_Scraping_with_BeautifulSoup.ipynb\" target=\"_parent\"><img src=\"https://colab.research.google.com/assets/colab-badge.svg\" alt=\"Open In Colab\"/></a>"
      ]
    },
    {
      "cell_type": "code",
      "metadata": {
        "id": "65MAQoF3XtKT"
      },
      "source": [
        "from bs4 import BeautifulSoup\r\n",
        "import requests"
      ],
      "execution_count": 38,
      "outputs": []
    },
    {
      "cell_type": "code",
      "metadata": {
        "colab": {
          "base_uri": "https://localhost:8080/",
          "height": 203
        },
        "id": "-guXsTOwX3TV",
        "outputId": "70a2af37-985b-4280-fd74-cf3774ce9e31"
      },
      "source": [
        "from bs4 import BeautifulSoup\r\n",
        "\r\n",
        "# Initialize the parser, and pass in the content we grabbed earlier.\r\n",
        "parser = BeautifulSoup(content, 'html.parser')\r\n",
        "\r\n",
        "# Get the body tag from the document.\r\n",
        "# Since we passed in the top level of the document to the parser, we need to pick a branch off of the root.\r\n",
        "# With BeautifulSoup, we can access branches by using tag types as attributes.\r\n",
        "body = parser.body\r\n",
        "\r\n",
        "# Get the p tag from the body.\r\n",
        "p = body.p\r\n",
        "\r\n",
        "# Print the text inside the p tag.\r\n",
        "# Text is a property that gets the inside text of a tag.\r\n",
        "print(p.text)"
      ],
      "execution_count": 39,
      "outputs": [
        {
          "output_type": "error",
          "ename": "AttributeError",
          "evalue": "ignored",
          "traceback": [
            "\u001b[0;31m---------------------------------------------------------------------------\u001b[0m",
            "\u001b[0;31mAttributeError\u001b[0m                            Traceback (most recent call last)",
            "\u001b[0;32m<ipython-input-39-077cc1dbaaeb>\u001b[0m in \u001b[0;36m<module>\u001b[0;34m()\u001b[0m\n\u001b[1;32m     14\u001b[0m \u001b[0;31m# Print the text inside the p tag.\u001b[0m\u001b[0;34m\u001b[0m\u001b[0;34m\u001b[0m\u001b[0;34m\u001b[0m\u001b[0m\n\u001b[1;32m     15\u001b[0m \u001b[0;31m# Text is a property that gets the inside text of a tag.\u001b[0m\u001b[0;34m\u001b[0m\u001b[0;34m\u001b[0m\u001b[0;34m\u001b[0m\u001b[0m\n\u001b[0;32m---> 16\u001b[0;31m \u001b[0mprint\u001b[0m\u001b[0;34m(\u001b[0m\u001b[0mp\u001b[0m\u001b[0;34m.\u001b[0m\u001b[0mtext\u001b[0m\u001b[0;34m)\u001b[0m\u001b[0;34m\u001b[0m\u001b[0;34m\u001b[0m\u001b[0m\n\u001b[0m",
            "\u001b[0;31mAttributeError\u001b[0m: 'NoneType' object has no attribute 'text'"
          ]
        }
      ]
    },
    {
      "cell_type": "code",
      "metadata": {
        "id": "GH0SkEx2YBtC"
      },
      "source": [
        "title_text = str(parser.head.title.text)\r\n",
        "title_text"
      ],
      "execution_count": null,
      "outputs": []
    },
    {
      "cell_type": "code",
      "metadata": {
        "id": "8GHqIm9yZJxJ"
      },
      "source": [
        "# Get a list of all occurrences of the body tag in the element.\r\n",
        "body = parser.find_all(\"body\")\r\n",
        "\r\n",
        "# Get the paragraph tag.\r\n",
        "p = body[0].find_all(\"p\")\r\n",
        "\r\n",
        "# Get the text.\r\n",
        "print(p[0].text)"
      ],
      "execution_count": null,
      "outputs": []
    },
    {
      "cell_type": "code",
      "metadata": {
        "id": "PzF70hYiZOAR"
      },
      "source": [
        "title_text = parser.find_all(\"title\")\r\n",
        "title_text = title_text[0].text"
      ],
      "execution_count": null,
      "outputs": []
    },
    {
      "cell_type": "markdown",
      "metadata": {
        "id": "Ux86XWjpa3Ey"
      },
      "source": [
        "Trabalhando com busca de CSS"
      ]
    },
    {
      "cell_type": "code",
      "metadata": {
        "id": "wWlM321XbGS0"
      },
      "source": [
        "# Get the website that contains classes.\r\n",
        "response = requests.get(\"http://dataquestio.github.io/web-scraping-pages/simple_classes.html\")\r\n",
        "content = response.content\r\n",
        "parser = BeautifulSoup(content, 'html.parser')\r\n",
        "\r\n",
        "# Get the first inner paragraph.\r\n",
        "# Find all the paragraph tags with the class inner-text.\r\n",
        "# Then, take the first element in that list.\r\n",
        "first_inner_paragraph = parser.find_all(\"p\", class_=\"inner-text\")[0]\r\n",
        "print(first_inner_paragraph.text)\r\n",
        "\r\n",
        "second_inner_paragraph = parser.find_all(\"p\", class_=\"inner-text\")[1]\r\n",
        "second_inner_paragraph_text = second_inner_paragraph.text\r\n",
        "print(second_inner_paragraph_text)\r\n",
        "\r\n",
        "first_outer_paragraph = parser.find_all(\"p\", class_=\"outer-text\")[0]\r\n",
        "first_outer_paragraph_text = first_outer_paragraph.text\r\n",
        "print(first_outer_paragraph_text)\r\n"
      ],
      "execution_count": null,
      "outputs": []
    },
    {
      "cell_type": "code",
      "metadata": {
        "id": "Sss_TZjsZftg"
      },
      "source": [
        "# Get the website that contains classes and IDs.\r\n",
        "response = requests.get(\"http://dataquestio.github.io/web-scraping-pages/ids_and_classes.html\")\r\n",
        "content = response.content\r\n",
        "parser = BeautifulSoup(content, 'html.parser')\r\n",
        "\r\n",
        "first_items = parser.select(\".first-item\")\r\n",
        "\r\n",
        "print(first_items[0].text)"
      ],
      "execution_count": null,
      "outputs": []
    },
    {
      "cell_type": "code",
      "metadata": {
        "id": "A2AHSFkvbNj8"
      },
      "source": [
        "# Get the website that contains classes and IDs.\r\n",
        "response = requests.get(\"http://dataquestio.github.io/web-scraping-pages/ids_and_classes.html\")\r\n",
        "content = response.content\r\n",
        "parser = BeautifulSoup(content, 'html.parser')\r\n",
        "\r\n",
        "first_outer = parser.select(\".outer-text\")\r\n",
        "first_outer_text = first_outer[0].text\r\n",
        "print(first_outer_text)\r\n",
        "\r\n",
        "second = parser.find_all(id=\"second\")[0]\r\n",
        "second_text = second.text\r\n",
        "print(second_text)"
      ],
      "execution_count": null,
      "outputs": []
    },
    {
      "cell_type": "code",
      "metadata": {
        "id": "YYjzaktJbdZc"
      },
      "source": [
        "# Get the Superbowl box score data.\r\n",
        "response = requests.get(\"http://dataquestio.github.io/web-scraping-pages/2014_super_bowl.html\")\r\n",
        "content = response.content\r\n",
        "parser = BeautifulSoup(content, 'html.parser')\r\n",
        "\r\n",
        "# Find the number of turnovers the Seahawks committed.\r\n",
        "turnovers = parser.select(\"#turnovers\")[0]\r\n",
        "seahawks_turnovers = turnovers.select(\"td\")[1]\r\n",
        "seahawks_turnovers_count = seahawks_turnovers.text\r\n",
        "print(seahawks_turnovers_count)\r\n",
        "\r\n",
        "# Find the number of turnovers the Seahawks committed.\r\n",
        "patriots_total_plays_count = parser.select(\"#total-plays\")[0].select(\"td\")[2].text\r\n",
        "print(patriots_total_plays_count)\r\n",
        "\r\n",
        "seahawks_total_yards_count = parser.select(\"#total-yards\")[0].select(\"td\")[1].text\r\n",
        "print(seahawks_total_yards_count)\r\n"
      ],
      "execution_count": null,
      "outputs": []
    },
    {
      "cell_type": "code",
      "metadata": {
        "id": "QftQ5P2Ldx86"
      },
      "source": [
        ""
      ],
      "execution_count": null,
      "outputs": []
    }
  ]
}